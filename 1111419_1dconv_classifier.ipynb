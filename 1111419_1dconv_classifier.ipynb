{
  "nbformat": 4,
  "nbformat_minor": 0,
  "metadata": {
    "colab": {
      "name": "1111419_1dconv_reg.ipynb",
      "provenance": [],
      "collapsed_sections": []
    },
    "kernelspec": {
      "name": "python3",
      "display_name": "Python 3"
    },
    "accelerator": "GPU"
  },
  "cells": [
    {
      "cell_type": "markdown",
      "metadata": {
        "id": "cPPwbez3nlVt",
        "colab_type": "text"
      },
      "source": [
        "**Importing libraries**"
      ]
    },
    {
      "cell_type": "code",
      "metadata": {
        "id": "GhZ-SKnmSUR-",
        "colab_type": "code",
        "outputId": "f1ff1247-1f0d-43a7-915f-8eb214e853ec",
        "colab": {
          "base_uri": "https://localhost:8080/",
          "height": 136
        }
      },
      "source": [
        "import tensorflow.compat.v1 as tf\n",
        "tf.disable_v2_behavior()\n",
        "import pandas as pd\n",
        "from sklearn.model_selection import train_test_split\n",
        "from sklearn.model_selection import train_test_split\n",
        "import numpy as np\n",
        "import seaborn as sns\n",
        "import nltk \n",
        "import random \n",
        "from nltk.tokenize import word_tokenize\n",
        "nltk.download('punkt') \n",
        "nltk.download('stopwords') \n",
        "nltk.download('wordnet') "
      ],
      "execution_count": 139,
      "outputs": [
        {
          "output_type": "stream",
          "text": [
            "[nltk_data] Downloading package punkt to /root/nltk_data...\n",
            "[nltk_data]   Package punkt is already up-to-date!\n",
            "[nltk_data] Downloading package stopwords to /root/nltk_data...\n",
            "[nltk_data]   Package stopwords is already up-to-date!\n",
            "[nltk_data] Downloading package wordnet to /root/nltk_data...\n",
            "[nltk_data]   Package wordnet is already up-to-date!\n"
          ],
          "name": "stdout"
        },
        {
          "output_type": "execute_result",
          "data": {
            "text/plain": [
              "True"
            ]
          },
          "metadata": {
            "tags": []
          },
          "execution_count": 139
        }
      ]
    },
    {
      "cell_type": "code",
      "metadata": {
        "id": "hzgCW0E6SZQe",
        "colab_type": "code",
        "outputId": "b5a03b9e-6f77-41f7-969c-5ea06a8554b5",
        "colab": {
          "base_uri": "https://localhost:8080/",
          "height": 204
        }
      },
      "source": [
        "import urllib.request as urllib2\n",
        "from nltk import FreqDist\n",
        "import pandas as pd\n",
        "url = 'https://raw.githubusercontent.com/cacoderquan/Sentiment-Analysis-on-the-Rotten-Tomatoes-movie-review-dataset/master/train.tsv'\n",
        "response = urllib2.urlopen(url)\n",
        "\n",
        "df = pd.read_csv(response,delimiter='\\t',encoding='utf-8')\n",
        "df.head()\n"
      ],
      "execution_count": 140,
      "outputs": [
        {
          "output_type": "execute_result",
          "data": {
            "text/html": [
              "<div>\n",
              "<style scoped>\n",
              "    .dataframe tbody tr th:only-of-type {\n",
              "        vertical-align: middle;\n",
              "    }\n",
              "\n",
              "    .dataframe tbody tr th {\n",
              "        vertical-align: top;\n",
              "    }\n",
              "\n",
              "    .dataframe thead th {\n",
              "        text-align: right;\n",
              "    }\n",
              "</style>\n",
              "<table border=\"1\" class=\"dataframe\">\n",
              "  <thead>\n",
              "    <tr style=\"text-align: right;\">\n",
              "      <th></th>\n",
              "      <th>PhraseId</th>\n",
              "      <th>SentenceId</th>\n",
              "      <th>Phrase</th>\n",
              "      <th>Sentiment</th>\n",
              "    </tr>\n",
              "  </thead>\n",
              "  <tbody>\n",
              "    <tr>\n",
              "      <th>0</th>\n",
              "      <td>1</td>\n",
              "      <td>1</td>\n",
              "      <td>A series of escapades demonstrating the adage ...</td>\n",
              "      <td>1</td>\n",
              "    </tr>\n",
              "    <tr>\n",
              "      <th>1</th>\n",
              "      <td>2</td>\n",
              "      <td>1</td>\n",
              "      <td>A series of escapades demonstrating the adage ...</td>\n",
              "      <td>2</td>\n",
              "    </tr>\n",
              "    <tr>\n",
              "      <th>2</th>\n",
              "      <td>3</td>\n",
              "      <td>1</td>\n",
              "      <td>A series</td>\n",
              "      <td>2</td>\n",
              "    </tr>\n",
              "    <tr>\n",
              "      <th>3</th>\n",
              "      <td>4</td>\n",
              "      <td>1</td>\n",
              "      <td>A</td>\n",
              "      <td>2</td>\n",
              "    </tr>\n",
              "    <tr>\n",
              "      <th>4</th>\n",
              "      <td>5</td>\n",
              "      <td>1</td>\n",
              "      <td>series</td>\n",
              "      <td>2</td>\n",
              "    </tr>\n",
              "  </tbody>\n",
              "</table>\n",
              "</div>"
            ],
            "text/plain": [
              "   PhraseId  ...  Sentiment\n",
              "0         1  ...          1\n",
              "1         2  ...          2\n",
              "2         3  ...          2\n",
              "3         4  ...          2\n",
              "4         5  ...          2\n",
              "\n",
              "[5 rows x 4 columns]"
            ]
          },
          "metadata": {
            "tags": []
          },
          "execution_count": 140
        }
      ]
    },
    {
      "cell_type": "code",
      "metadata": {
        "id": "uDU5qDu_Sbj2",
        "colab_type": "code",
        "outputId": "0b7d4473-28f9-414b-fb69-e676b54d29d0",
        "colab": {
          "base_uri": "https://localhost:8080/",
          "height": 204
        }
      },
      "source": [
        "df = df.sample(frac=1).reset_index(drop=True)\n",
        "df.head()"
      ],
      "execution_count": 141,
      "outputs": [
        {
          "output_type": "execute_result",
          "data": {
            "text/html": [
              "<div>\n",
              "<style scoped>\n",
              "    .dataframe tbody tr th:only-of-type {\n",
              "        vertical-align: middle;\n",
              "    }\n",
              "\n",
              "    .dataframe tbody tr th {\n",
              "        vertical-align: top;\n",
              "    }\n",
              "\n",
              "    .dataframe thead th {\n",
              "        text-align: right;\n",
              "    }\n",
              "</style>\n",
              "<table border=\"1\" class=\"dataframe\">\n",
              "  <thead>\n",
              "    <tr style=\"text-align: right;\">\n",
              "      <th></th>\n",
              "      <th>PhraseId</th>\n",
              "      <th>SentenceId</th>\n",
              "      <th>Phrase</th>\n",
              "      <th>Sentiment</th>\n",
              "    </tr>\n",
              "  </thead>\n",
              "  <tbody>\n",
              "    <tr>\n",
              "      <th>0</th>\n",
              "      <td>56916</td>\n",
              "      <td>2863</td>\n",
              "      <td>in almost all of his previous works</td>\n",
              "      <td>2</td>\n",
              "    </tr>\n",
              "    <tr>\n",
              "      <th>1</th>\n",
              "      <td>46618</td>\n",
              "      <td>2268</td>\n",
              "      <td>do n't notice the 129-minute running time</td>\n",
              "      <td>3</td>\n",
              "    </tr>\n",
              "    <tr>\n",
              "      <th>2</th>\n",
              "      <td>133671</td>\n",
              "      <td>7211</td>\n",
              "      <td>Think of it as Gidget , only with muscles and ...</td>\n",
              "      <td>4</td>\n",
              "    </tr>\n",
              "    <tr>\n",
              "      <th>3</th>\n",
              "      <td>24828</td>\n",
              "      <td>1133</td>\n",
              "      <td>is funny in the way that makes you ache with s...</td>\n",
              "      <td>2</td>\n",
              "    </tr>\n",
              "    <tr>\n",
              "      <th>4</th>\n",
              "      <td>35746</td>\n",
              "      <td>1686</td>\n",
              "      <td>need to see it</td>\n",
              "      <td>3</td>\n",
              "    </tr>\n",
              "  </tbody>\n",
              "</table>\n",
              "</div>"
            ],
            "text/plain": [
              "   PhraseId  ...  Sentiment\n",
              "0     56916  ...          2\n",
              "1     46618  ...          3\n",
              "2    133671  ...          4\n",
              "3     24828  ...          2\n",
              "4     35746  ...          3\n",
              "\n",
              "[5 rows x 4 columns]"
            ]
          },
          "metadata": {
            "tags": []
          },
          "execution_count": 141
        }
      ]
    },
    {
      "cell_type": "code",
      "metadata": {
        "id": "I09uWbN4SfNm",
        "colab_type": "code",
        "outputId": "4a169526-dcc2-4c9c-89bb-d9d4c2a3f1d8",
        "colab": {
          "base_uri": "https://localhost:8080/",
          "height": 34
        }
      },
      "source": [
        "X_train, X_test, Y_train, Y_test = train_test_split(df ['Phrase'], df ['Sentiment'], test_size=0.3, random_state=2003)\n",
        "documents=[]\n",
        "X_train = np.array(X_train.values.tolist())\n",
        "Y_train = np.array(Y_train.values.tolist())\n",
        "\n",
        "for i in range(len(X_train)):\n",
        "  documents.append([list(word_tokenize(X_train[i])), Y_train[i]]) \n",
        "  \n",
        "X_test = np.array(X_test.values.tolist())\n",
        "Y_test = np.array(Y_test.values.tolist())\n",
        "for i in range(len(X_test)):\n",
        "  documents.append([list(word_tokenize(X_test[i])), Y_test[i]]) \n",
        "\n",
        "documents[0]"
      ],
      "execution_count": 142,
      "outputs": [
        {
          "output_type": "execute_result",
          "data": {
            "text/plain": [
              "[['it', \"'s\", 'like', 'dying', 'and', 'going', 'to', 'celluloid', 'heaven'], 3]"
            ]
          },
          "metadata": {
            "tags": []
          },
          "execution_count": 142
        }
      ]
    },
    {
      "cell_type": "markdown",
      "metadata": {
        "id": "5sWbUaqDndwN",
        "colab_type": "text"
      },
      "source": [
        "**Data pre-processing steps**"
      ]
    },
    {
      "cell_type": "code",
      "metadata": {
        "id": "H6ccNGN3WvQY",
        "colab_type": "code",
        "colab": {}
      },
      "source": [
        "from nltk.corpus import stopwords \n",
        "from nltk.stem import WordNetLemmatizer, PorterStemmer, LancasterStemmer \n",
        "porter = PorterStemmer() \n",
        "lancaster=LancasterStemmer() \n",
        "wordnet_lemmatizer = WordNetLemmatizer() \n",
        "stopwords_en = stopwords.words(\"english\") \n",
        "punctuations=\"?:!.,;'\\\"-()\"\n",
        "remove_stopwords = True\n",
        "useStemming = False\n",
        "useLemma = True\n",
        "removePuncs = True\n"
      ],
      "execution_count": 0,
      "outputs": []
    },
    {
      "cell_type": "code",
      "metadata": {
        "id": "wibkp1lHWxuf",
        "colab_type": "code",
        "outputId": "f8d587f1-5f30-44a5-d7bd-7f7863035c32",
        "colab": {
          "base_uri": "https://localhost:8080/",
          "height": 34
        }
      },
      "source": [
        "for l in range(len(documents)):                  \n",
        "  label = documents[l][1]                       \n",
        "  tmpReview = []                               \n",
        "  for w in documents[l][0]:                       \n",
        "    newWord = w                                   \n",
        "    if remove_stopwords and (w in stopwords_en):   \n",
        "      continue                                     \n",
        "    if removePuncs and (w in punctuations):        \n",
        "      continue                                    \n",
        "    if useStemming:\n",
        "      newWord = lancaster.stem(newWord) \n",
        "    if useLemma: \n",
        "      newWord = wordnet_lemmatizer.lemmatize(newWord) \n",
        "    tmpReview.append(newWord)                      \n",
        "  documents[l] = (tmpReview, label)              \n",
        "  documents[l] = (' '.join(tmpReview), label) \n",
        "print(documents[0])"
      ],
      "execution_count": 144,
      "outputs": [
        {
          "output_type": "stream",
          "text": [
            "(\"'s like dying going celluloid heaven\", 3)\n"
          ],
          "name": "stdout"
        }
      ]
    },
    {
      "cell_type": "code",
      "metadata": {
        "id": "InPVUfgzWztX",
        "colab_type": "code",
        "outputId": "948021fb-351d-458a-c340-b1584ed21ae9",
        "colab": {
          "base_uri": "https://localhost:8080/",
          "height": 204
        }
      },
      "source": [
        "df = pd.DataFrame(documents, columns=['text', 'sentiment']) \n",
        "df.head()"
      ],
      "execution_count": 145,
      "outputs": [
        {
          "output_type": "execute_result",
          "data": {
            "text/html": [
              "<div>\n",
              "<style scoped>\n",
              "    .dataframe tbody tr th:only-of-type {\n",
              "        vertical-align: middle;\n",
              "    }\n",
              "\n",
              "    .dataframe tbody tr th {\n",
              "        vertical-align: top;\n",
              "    }\n",
              "\n",
              "    .dataframe thead th {\n",
              "        text-align: right;\n",
              "    }\n",
              "</style>\n",
              "<table border=\"1\" class=\"dataframe\">\n",
              "  <thead>\n",
              "    <tr style=\"text-align: right;\">\n",
              "      <th></th>\n",
              "      <th>text</th>\n",
              "      <th>sentiment</th>\n",
              "    </tr>\n",
              "  </thead>\n",
              "  <tbody>\n",
              "    <tr>\n",
              "      <th>0</th>\n",
              "      <td>'s like dying going celluloid heaven</td>\n",
              "      <td>3</td>\n",
              "    </tr>\n",
              "    <tr>\n",
              "      <th>1</th>\n",
              "      <td>charitable</td>\n",
              "      <td>3</td>\n",
              "    </tr>\n",
              "    <tr>\n",
              "      <th>2</th>\n",
              "      <td>since `` Dumbo ''</td>\n",
              "      <td>2</td>\n",
              "    </tr>\n",
              "    <tr>\n",
              "      <th>3</th>\n",
              "      <td>critical commercial disaster</td>\n",
              "      <td>0</td>\n",
              "    </tr>\n",
              "    <tr>\n",
              "      <th>4</th>\n",
              "      <td>The movie fails portray literarily talented no...</td>\n",
              "      <td>0</td>\n",
              "    </tr>\n",
              "  </tbody>\n",
              "</table>\n",
              "</div>"
            ],
            "text/plain": [
              "                                                text  sentiment\n",
              "0               's like dying going celluloid heaven          3\n",
              "1                                         charitable          3\n",
              "2                                  since `` Dumbo ''          2\n",
              "3                       critical commercial disaster          0\n",
              "4  The movie fails portray literarily talented no...          0"
            ]
          },
          "metadata": {
            "tags": []
          },
          "execution_count": 145
        }
      ]
    },
    {
      "cell_type": "code",
      "metadata": {
        "id": "OSoEouQN83iF",
        "colab_type": "code",
        "colab": {}
      },
      "source": [
        "X_train, X_test, Y_train, Y_test = train_test_split(df['text'],  df['sentiment'], test_size=0.3, random_state=2003)"
      ],
      "execution_count": 0,
      "outputs": []
    },
    {
      "cell_type": "markdown",
      "metadata": {
        "id": "RF4MV0qCnXNV",
        "colab_type": "text"
      },
      "source": [
        "**Vectorization**"
      ]
    },
    {
      "cell_type": "code",
      "metadata": {
        "id": "7gaF2YPvUH7W",
        "colab_type": "code",
        "colab": {}
      },
      "source": [
        "from sklearn.feature_extraction.text import CountVectorizer , TfidfVectorizer\n",
        "from keras.utils import to_categorical\n",
        "\n",
        "vectorizer = TfidfVectorizer(max_features = 2500) \n",
        "X = vectorizer.fit_transform(df[\"text\"]) \n",
        "Y = df['sentiment'] \n",
        " \n",
        "X_train = vectorizer.transform(X_train).toarray()\n",
        "Y_train = Y_train \n",
        "X_test = vectorizer.transform(X_test).toarray()\n",
        "Y_test = Y_test\n"
      ],
      "execution_count": 0,
      "outputs": []
    },
    {
      "cell_type": "code",
      "metadata": {
        "id": "i_mDKmY2WSch",
        "colab_type": "code",
        "outputId": "ce09ce81-7288-4438-8aa8-ac64fe5f17b0",
        "colab": {
          "base_uri": "https://localhost:8080/",
          "height": 221
        }
      },
      "source": [
        "Y_test"
      ],
      "execution_count": 148,
      "outputs": [
        {
          "output_type": "execute_result",
          "data": {
            "text/plain": [
              "13510     1\n",
              "61932     2\n",
              "82549     2\n",
              "137718    4\n",
              "121990    4\n",
              "         ..\n",
              "94224     1\n",
              "135456    1\n",
              "154729    3\n",
              "23031     2\n",
              "57870     2\n",
              "Name: sentiment, Length: 46818, dtype: int64"
            ]
          },
          "metadata": {
            "tags": []
          },
          "execution_count": 148
        }
      ]
    },
    {
      "cell_type": "code",
      "metadata": {
        "id": "ezvrFic8Uqyy",
        "colab_type": "code",
        "colab": {}
      },
      "source": [
        "import keras\n",
        "from keras.datasets import mnist\n",
        "from keras.models import Sequential\n",
        "from keras.layers import Dense, Dropout, Flatten\n",
        "from keras.layers import Conv1D, MaxPooling1D\n",
        "from keras import backend as K"
      ],
      "execution_count": 0,
      "outputs": []
    },
    {
      "cell_type": "code",
      "metadata": {
        "id": "Rx8g8sDt2IbI",
        "colab_type": "code",
        "colab": {}
      },
      "source": [
        "def recall_m(y_true, y_pred):\n",
        "    true_positives = K.sum(K.round(K.clip(y_true * y_pred, 0, 1)))\n",
        "    possible_positives = K.sum(K.round(K.clip(y_true, 0, 1)))\n",
        "    recall = true_positives / (possible_positives + K.epsilon())\n",
        "    return recall\n",
        "\n",
        "def precision_m(y_true, y_pred):\n",
        "    true_positives = K.sum(K.round(K.clip(y_true * y_pred, 0, 1)))\n",
        "    predicted_positives = K.sum(K.round(K.clip(y_pred, 0, 1)))\n",
        "    precision = true_positives / (predicted_positives + K.epsilon())\n",
        "    return precision\n",
        "\n",
        "def f1_m(y_true, y_pred):\n",
        "    precision = precision_m(y_true, y_pred)\n",
        "    recall = recall_m(y_true, y_pred)\n",
        "    return 2*((precision*recall)/(precision+recall+K.epsilon()))\n"
      ],
      "execution_count": 0,
      "outputs": []
    },
    {
      "cell_type": "code",
      "metadata": {
        "id": "r5AlEWbzSCMP",
        "colab_type": "code",
        "outputId": "aa61ed69-56f4-4e2b-ecd6-39c19b98a69b",
        "colab": {
          "base_uri": "https://localhost:8080/",
          "height": 34
        }
      },
      "source": [
        "X_train.shape"
      ],
      "execution_count": 151,
      "outputs": [
        {
          "output_type": "execute_result",
          "data": {
            "text/plain": [
              "(109242, 2500)"
            ]
          },
          "metadata": {
            "tags": []
          },
          "execution_count": 151
        }
      ]
    },
    {
      "cell_type": "code",
      "metadata": {
        "id": "vBxQFt--fHT1",
        "colab_type": "code",
        "colab": {}
      },
      "source": [
        "Y_train = keras.utils.to_categorical(Y_train, num_classes)\n",
        "Y_test = keras.utils.to_categorical(Y_test, num_classes)\n",
        "num_classes = 5"
      ],
      "execution_count": 0,
      "outputs": []
    },
    {
      "cell_type": "code",
      "metadata": {
        "id": "tXPLB7fDfIQt",
        "colab_type": "code",
        "outputId": "39f93d3f-af6d-4a7b-caf9-fd9f0412b9b3",
        "colab": {
          "base_uri": "https://localhost:8080/",
          "height": 136
        }
      },
      "source": [
        "Y_test"
      ],
      "execution_count": 153,
      "outputs": [
        {
          "output_type": "execute_result",
          "data": {
            "text/plain": [
              "array([[0., 1., 0., 0., 0.],\n",
              "       [0., 0., 1., 0., 0.],\n",
              "       [0., 0., 1., 0., 0.],\n",
              "       ...,\n",
              "       [0., 0., 0., 1., 0.],\n",
              "       [0., 0., 1., 0., 0.],\n",
              "       [0., 0., 1., 0., 0.]], dtype=float32)"
            ]
          },
          "metadata": {
            "tags": []
          },
          "execution_count": 153
        }
      ]
    },
    {
      "cell_type": "code",
      "metadata": {
        "id": "bL4Ml-k0LhLQ",
        "colab_type": "code",
        "colab": {}
      },
      "source": [
        "from keras.preprocessing import sequence,text\n",
        "from keras.preprocessing.text import Tokenizer\n",
        "from keras.models import Sequential\n",
        "from keras.layers import Input, Dense, Embedding, Flatten\n",
        "from keras.layers import SpatialDropout1D\n",
        "from keras.layers.convolutional import Conv1D, MaxPooling1D\n",
        "from keras.models import Sequential"
      ],
      "execution_count": 0,
      "outputs": []
    },
    {
      "cell_type": "markdown",
      "metadata": {
        "id": "d_vRDT1CnPCv",
        "colab_type": "text"
      },
      "source": [
        "**Proposed model**"
      ]
    },
    {
      "cell_type": "code",
      "metadata": {
        "id": "B5ToySXMU87V",
        "colab_type": "code",
        "colab": {}
      },
      "source": [
        "model = Sequential()\n",
        "model.add(Conv1D(filters=64, kernel_size=1,\n",
        "                 activation='relu',\n",
        "                 input_shape=(2500,1)))\n",
        "model.add(Conv1D(64, kernel_size=5, activation='relu'))\n",
        "model.add(MaxPooling1D(pool_size=1))\n",
        "#model.add(Dropout(rate = 0.50))\n",
        "model.add(Flatten())\n",
        "model.add(Dense(num_classes, activation='softmax'))"
      ],
      "execution_count": 0,
      "outputs": []
    },
    {
      "cell_type": "code",
      "metadata": {
        "id": "HA3I6AgtgMaN",
        "colab_type": "code",
        "colab": {}
      },
      "source": [
        "model.compile(loss=keras.losses.categorical_crossentropy,\n",
        "              optimizer=keras.optimizers.Adam(),\n",
        "              metrics=['accuracy',f1_m,precision_m, recall_m])"
      ],
      "execution_count": 0,
      "outputs": []
    },
    {
      "cell_type": "code",
      "metadata": {
        "id": "-rXqFVIQiS-j",
        "colab_type": "code",
        "colab": {}
      },
      "source": [
        "X_train = X_train.reshape(X_train.shape[0], X_train.shape[1], 1)\n",
        "X_test = X_test.reshape(X_test.shape[0], X_test.shape[1], 1)"
      ],
      "execution_count": 0,
      "outputs": []
    },
    {
      "cell_type": "markdown",
      "metadata": {
        "id": "0sduqqsYnIYh",
        "colab_type": "text"
      },
      "source": [
        "**Testing the model**"
      ]
    },
    {
      "cell_type": "code",
      "metadata": {
        "id": "2sDSZ7J2ViP8",
        "colab_type": "code",
        "outputId": "ed1d80e6-8ac2-4cea-b216-d3d1a10a4c60",
        "colab": {
          "base_uri": "https://localhost:8080/",
          "height": 1000
        }
      },
      "source": [
        "model.fit(X_train, Y_train,\n",
        "          batch_size=64,\n",
        "          epochs=50)\n",
        "score = model.evaluate(X_test, Y_test, verbose=0)\n",
        "print('Models loss:', score[0])\n",
        "print('Models accuracy:', score[1])\n",
        "print('Models F1 measure:',score[2])\n",
        "print('Models precision:',score[3])\n",
        "print('Models recall:',score[4])"
      ],
      "execution_count": 158,
      "outputs": [
        {
          "output_type": "stream",
          "text": [
            "Epoch 1/50\n",
            "109242/109242 [==============================] - 22s 205us/step - loss: 1.0718 - acc: 0.5799 - f1_m: 0.5155 - precision_m: 0.6389 - recall_m: 0.4372\n",
            "Epoch 2/50\n",
            "109242/109242 [==============================] - 22s 201us/step - loss: 0.9676 - acc: 0.6169 - f1_m: 0.5828 - precision_m: 0.6765 - recall_m: 0.5132\n",
            "Epoch 3/50\n",
            "109242/109242 [==============================] - 22s 201us/step - loss: 0.9412 - acc: 0.6272 - f1_m: 0.5967 - precision_m: 0.6812 - recall_m: 0.5320\n",
            "Epoch 4/50\n",
            "109242/109242 [==============================] - 22s 201us/step - loss: 0.9243 - acc: 0.6318 - f1_m: 0.6032 - precision_m: 0.6831 - recall_m: 0.5412\n",
            "Epoch 5/50\n",
            "109242/109242 [==============================] - 22s 200us/step - loss: 0.9111 - acc: 0.6378 - f1_m: 0.6117 - precision_m: 0.6892 - recall_m: 0.5509\n",
            "Epoch 6/50\n",
            "109242/109242 [==============================] - 22s 200us/step - loss: 0.9012 - acc: 0.6399 - f1_m: 0.6152 - precision_m: 0.6897 - recall_m: 0.5562\n",
            "Epoch 7/50\n",
            "109242/109242 [==============================] - 22s 200us/step - loss: 0.8922 - acc: 0.6436 - f1_m: 0.6183 - precision_m: 0.6921 - recall_m: 0.5598\n",
            "Epoch 8/50\n",
            "109242/109242 [==============================] - 22s 201us/step - loss: 0.8854 - acc: 0.6470 - f1_m: 0.6230 - precision_m: 0.6949 - recall_m: 0.5656\n",
            "Epoch 9/50\n",
            "109242/109242 [==============================] - 22s 200us/step - loss: 0.8772 - acc: 0.6499 - f1_m: 0.6267 - precision_m: 0.6969 - recall_m: 0.5703\n",
            "Epoch 10/50\n",
            "109242/109242 [==============================] - 22s 202us/step - loss: 0.8701 - acc: 0.6529 - f1_m: 0.6301 - precision_m: 0.6987 - recall_m: 0.5747\n",
            "Epoch 11/50\n",
            "109242/109242 [==============================] - 22s 200us/step - loss: 0.8638 - acc: 0.6549 - f1_m: 0.6331 - precision_m: 0.7003 - recall_m: 0.5786\n",
            "Epoch 12/50\n",
            "109242/109242 [==============================] - 22s 199us/step - loss: 0.8588 - acc: 0.6572 - f1_m: 0.6352 - precision_m: 0.7011 - recall_m: 0.5817\n",
            "Epoch 13/50\n",
            "109242/109242 [==============================] - 22s 200us/step - loss: 0.8537 - acc: 0.6593 - f1_m: 0.6380 - precision_m: 0.7032 - recall_m: 0.5847\n",
            "Epoch 14/50\n",
            "109242/109242 [==============================] - 22s 201us/step - loss: 0.8482 - acc: 0.6608 - f1_m: 0.6404 - precision_m: 0.7032 - recall_m: 0.5888\n",
            "Epoch 15/50\n",
            "109242/109242 [==============================] - 22s 201us/step - loss: 0.8446 - acc: 0.6624 - f1_m: 0.6430 - precision_m: 0.7051 - recall_m: 0.5918\n",
            "Epoch 16/50\n",
            "109242/109242 [==============================] - 22s 201us/step - loss: 0.8409 - acc: 0.6640 - f1_m: 0.6436 - precision_m: 0.7060 - recall_m: 0.5923\n",
            "Epoch 17/50\n",
            "109242/109242 [==============================] - 22s 201us/step - loss: 0.8365 - acc: 0.6660 - f1_m: 0.6468 - precision_m: 0.7069 - recall_m: 0.5970\n",
            "Epoch 18/50\n",
            "109242/109242 [==============================] - 22s 201us/step - loss: 0.8326 - acc: 0.6672 - f1_m: 0.6487 - precision_m: 0.7088 - recall_m: 0.5988\n",
            "Epoch 19/50\n",
            "109242/109242 [==============================] - 22s 201us/step - loss: 0.8287 - acc: 0.6687 - f1_m: 0.6507 - precision_m: 0.7097 - recall_m: 0.6015\n",
            "Epoch 20/50\n",
            "109242/109242 [==============================] - 22s 201us/step - loss: 0.8252 - acc: 0.6700 - f1_m: 0.6523 - precision_m: 0.7108 - recall_m: 0.6036\n",
            "Epoch 21/50\n",
            "109242/109242 [==============================] - 22s 201us/step - loss: 0.8217 - acc: 0.6712 - f1_m: 0.6533 - precision_m: 0.7122 - recall_m: 0.6043\n",
            "Epoch 22/50\n",
            "109242/109242 [==============================] - 22s 201us/step - loss: 0.8173 - acc: 0.6729 - f1_m: 0.6565 - precision_m: 0.7140 - recall_m: 0.6083\n",
            "Epoch 23/50\n",
            "109242/109242 [==============================] - 22s 201us/step - loss: 0.8148 - acc: 0.6742 - f1_m: 0.6574 - precision_m: 0.7129 - recall_m: 0.6107\n",
            "Epoch 24/50\n",
            "109242/109242 [==============================] - 22s 204us/step - loss: 0.8110 - acc: 0.6763 - f1_m: 0.6595 - precision_m: 0.7157 - recall_m: 0.6123\n",
            "Epoch 25/50\n",
            "109242/109242 [==============================] - 22s 200us/step - loss: 0.8071 - acc: 0.6768 - f1_m: 0.6608 - precision_m: 0.7160 - recall_m: 0.6143\n",
            "Epoch 26/50\n",
            "109242/109242 [==============================] - 22s 202us/step - loss: 0.8037 - acc: 0.6783 - f1_m: 0.6622 - precision_m: 0.7173 - recall_m: 0.6157\n",
            "Epoch 27/50\n",
            "109242/109242 [==============================] - 22s 201us/step - loss: 0.8011 - acc: 0.6788 - f1_m: 0.6636 - precision_m: 0.7172 - recall_m: 0.6183\n",
            "Epoch 28/50\n",
            "109242/109242 [==============================] - 22s 201us/step - loss: 0.7978 - acc: 0.6796 - f1_m: 0.6648 - precision_m: 0.7186 - recall_m: 0.6194\n",
            "Epoch 29/50\n",
            "109242/109242 [==============================] - 22s 202us/step - loss: 0.7945 - acc: 0.6816 - f1_m: 0.6672 - precision_m: 0.7206 - recall_m: 0.6220\n",
            "Epoch 30/50\n",
            "109242/109242 [==============================] - 22s 204us/step - loss: 0.7913 - acc: 0.6827 - f1_m: 0.6677 - precision_m: 0.7205 - recall_m: 0.6229\n",
            "Epoch 31/50\n",
            "109242/109242 [==============================] - 22s 201us/step - loss: 0.7881 - acc: 0.6835 - f1_m: 0.6687 - precision_m: 0.7204 - recall_m: 0.6246\n",
            "Epoch 32/50\n",
            "109242/109242 [==============================] - 22s 202us/step - loss: 0.7852 - acc: 0.6864 - f1_m: 0.6724 - precision_m: 0.7239 - recall_m: 0.6286\n",
            "Epoch 33/50\n",
            "109242/109242 [==============================] - 22s 203us/step - loss: 0.7827 - acc: 0.6858 - f1_m: 0.6722 - precision_m: 0.7233 - recall_m: 0.6286\n",
            "Epoch 34/50\n",
            "109242/109242 [==============================] - 22s 202us/step - loss: 0.7787 - acc: 0.6880 - f1_m: 0.6743 - precision_m: 0.7244 - recall_m: 0.6315\n",
            "Epoch 35/50\n",
            "109242/109242 [==============================] - 22s 202us/step - loss: 0.7759 - acc: 0.6886 - f1_m: 0.6749 - precision_m: 0.7247 - recall_m: 0.6323\n",
            "Epoch 36/50\n",
            "109242/109242 [==============================] - 22s 202us/step - loss: 0.7732 - acc: 0.6905 - f1_m: 0.6760 - precision_m: 0.7261 - recall_m: 0.6331\n",
            "Epoch 37/50\n",
            "109242/109242 [==============================] - 22s 202us/step - loss: 0.7695 - acc: 0.6911 - f1_m: 0.6775 - precision_m: 0.7262 - recall_m: 0.6356\n",
            "Epoch 38/50\n",
            "109242/109242 [==============================] - 22s 204us/step - loss: 0.7670 - acc: 0.6922 - f1_m: 0.6783 - precision_m: 0.7270 - recall_m: 0.6364\n",
            "Epoch 39/50\n",
            "109242/109242 [==============================] - 22s 202us/step - loss: 0.7636 - acc: 0.6944 - f1_m: 0.6810 - precision_m: 0.7296 - recall_m: 0.6391\n",
            "Epoch 40/50\n",
            "109242/109242 [==============================] - 22s 201us/step - loss: 0.7605 - acc: 0.6947 - f1_m: 0.6820 - precision_m: 0.7291 - recall_m: 0.6413\n",
            "Epoch 41/50\n",
            "109242/109242 [==============================] - 22s 203us/step - loss: 0.7575 - acc: 0.6958 - f1_m: 0.6832 - precision_m: 0.7298 - recall_m: 0.6429\n",
            "Epoch 42/50\n",
            "109242/109242 [==============================] - 22s 201us/step - loss: 0.7545 - acc: 0.6970 - f1_m: 0.6854 - precision_m: 0.7319 - recall_m: 0.6451\n",
            "Epoch 43/50\n",
            "109242/109242 [==============================] - 22s 199us/step - loss: 0.7520 - acc: 0.6977 - f1_m: 0.6853 - precision_m: 0.7311 - recall_m: 0.6456\n",
            "Epoch 44/50\n",
            "109242/109242 [==============================] - 22s 201us/step - loss: 0.7495 - acc: 0.6981 - f1_m: 0.6862 - precision_m: 0.7329 - recall_m: 0.6457\n",
            "Epoch 45/50\n",
            "109242/109242 [==============================] - 22s 200us/step - loss: 0.7465 - acc: 0.6994 - f1_m: 0.6877 - precision_m: 0.7335 - recall_m: 0.6478\n",
            "Epoch 46/50\n",
            "109242/109242 [==============================] - 22s 199us/step - loss: 0.7441 - acc: 0.7007 - f1_m: 0.6886 - precision_m: 0.7338 - recall_m: 0.6493\n",
            "Epoch 47/50\n",
            "109242/109242 [==============================] - 22s 199us/step - loss: 0.7417 - acc: 0.7011 - f1_m: 0.6907 - precision_m: 0.7351 - recall_m: 0.6519\n",
            "Epoch 48/50\n",
            "109242/109242 [==============================] - 22s 201us/step - loss: 0.7388 - acc: 0.7025 - f1_m: 0.6910 - precision_m: 0.7356 - recall_m: 0.6522\n",
            "Epoch 49/50\n",
            "109242/109242 [==============================] - 22s 201us/step - loss: 0.7368 - acc: 0.7031 - f1_m: 0.6916 - precision_m: 0.7356 - recall_m: 0.6532\n",
            "Epoch 50/50\n",
            "109242/109242 [==============================] - 22s 202us/step - loss: 0.7350 - acc: 0.7032 - f1_m: 0.6924 - precision_m: 0.7365 - recall_m: 0.6539\n",
            "Test loss: 1.192158264414942\n",
            "Test accuracy: 0.613439275492332\n",
            "Test F1 measure: 0.6014003699707544\n",
            "Test precision: 0.6395768366343157\n",
            "Test recall: 0.5686701695928916\n"
          ],
          "name": "stdout"
        }
      ]
    },
    {
      "cell_type": "markdown",
      "metadata": {
        "id": "OVFbspUXm8OD",
        "colab_type": "text"
      },
      "source": [
        "**Storing the model**"
      ]
    },
    {
      "cell_type": "code",
      "metadata": {
        "id": "zIWGmcD2hYxW",
        "colab_type": "code",
        "colab": {
          "base_uri": "https://localhost:8080/",
          "height": 34
        },
        "outputId": "aefa001a-8ead-4748-cb12-e9ac608ca1cc"
      },
      "source": [
        "from google.colab import drive\n",
        "drive.mount('/content/drive')"
      ],
      "execution_count": 159,
      "outputs": [
        {
          "output_type": "stream",
          "text": [
            "Drive already mounted at /content/drive; to attempt to forcibly remount, call drive.mount(\"/content/drive\", force_remount=True).\n"
          ],
          "name": "stdout"
        }
      ]
    },
    {
      "cell_type": "code",
      "metadata": {
        "id": "o2hc-0qXhCtx",
        "colab_type": "code",
        "colab": {}
      },
      "source": [
        "model.save('/content/drive/My Drive/1111419_1dconv_reg.h5')"
      ],
      "execution_count": 0,
      "outputs": []
    }
  ]
}